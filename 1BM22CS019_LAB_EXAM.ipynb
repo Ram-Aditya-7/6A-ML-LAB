{
  "nbformat": 4,
  "nbformat_minor": 0,
  "metadata": {
    "colab": {
      "provenance": []
    },
    "kernelspec": {
      "name": "python3",
      "display_name": "Python 3"
    },
    "language_info": {
      "name": "python"
    }
  },
  "cells": [
    {
      "cell_type": "code",
      "execution_count": 17,
      "metadata": {
        "colab": {
          "base_uri": "https://localhost:8080/"
        },
        "id": "fnTjc9c_6GXA",
        "outputId": "8ae66935-6df0-42dd-abfb-a256f53c4b34"
      },
      "outputs": [
        {
          "output_type": "stream",
          "name": "stdout",
          "text": [
            "preditction for [48,17,200] : 274.55\n",
            "RMSE for Linear Regression: 12.18\n",
            "RMSE for SVM Regression (linear kernel): 14.64\n",
            "RMSE for SVM Regression (non-linear rbf kernel): 66.42\n"
          ]
        },
        {
          "output_type": "stream",
          "name": "stderr",
          "text": [
            "/usr/local/lib/python3.11/dist-packages/sklearn/utils/validation.py:2739: UserWarning: X does not have valid feature names, but LinearRegression was fitted with feature names\n",
            "  warnings.warn(\n"
          ]
        }
      ],
      "source": [
        "import pandas as pd\n",
        "from sklearn import linear_model\n",
        "\n",
        "df = pd.DataFrame(\n",
        "    {\n",
        "        \"Temperature\": [25,23,35,36,38,41,45,33,37,40],\n",
        "        \"Time of Day\": [4,5,8,11,18,10,13,20,17,16],\n",
        "        \"Light Intensity\": [13,16,67,83,35,80,93,15,43,51],\n",
        "        \"Power Consumption\": [100,89,123,134,188,173,217,197,200,189]\n",
        "    })\n",
        "X = df[[\"Temperature\", \"Time of Day\",\"Light Intensity\"]]\n",
        "y = df['Power Consumption']\n",
        "\n",
        "regr = linear_model.LinearRegression()\n",
        "regr.fit(X, y)\n",
        "\n",
        "predicted = regr.predict([[48, 17, 25]])\n",
        "\n",
        "print(f\"preditction for [48,17,200] : {predicted[0]:.2f}\")\n",
        "\n",
        "from sklearn.model_selection import train_test_split\n",
        "from sklearn.metrics import mean_squared_error\n",
        "from sklearn.svm import SVR\n",
        "import numpy as np\n",
        "\n",
        "X_train, X_test, y_train, y_test = train_test_split(X, y, test_size=0.2, random_state=42)\n",
        "\n",
        "#Linear Regression\n",
        "regr = linear_model.LinearRegression()\n",
        "regr.fit(X_train, y_train)\n",
        "\n",
        "y_pred_lr = regr.predict(X_test)\n",
        "\n",
        "#RMSE for linear regression\n",
        "rmse_lr = np.sqrt(mean_squared_error(y_test, y_pred_lr))\n",
        "print(f\"RMSE for Linear Regression: {rmse_lr:.2f}\")\n",
        "\n",
        "# SVM Regression linear kernel\n",
        "svm_regr = SVR(kernel='linear')\n",
        "svm_regr.fit(X_train, y_train)\n",
        "\n",
        "y_pred_svm = svm_regr.predict(X_test)\n",
        "\n",
        "rmse_svm = np.sqrt(mean_squared_error(y_test, y_pred_svm))\n",
        "print(f\"RMSE for SVM Regression (linear kernel): {rmse_svm:.2f}\")\n",
        "\n",
        "# SVM Regression rbf kernel\n",
        "svm_regr = SVR(kernel='rbf')\n",
        "svm_regr.fit(X_train, y_train)\n",
        "\n",
        "y_pred_svm = svm_regr.predict(X_test)\n",
        "\n",
        "rmse_svm = np.sqrt(mean_squared_error(y_test, y_pred_svm))\n",
        "print(f\"RMSE for SVM Regression (non-linear rbf kernel): {rmse_svm:.2f}\")\n"
      ]
    },
    {
      "cell_type": "code",
      "source": [
        "import pandas as pd\n",
        "from sklearn import linear_model\n",
        "from sklearn.model_selection import train_test_split\n",
        "from sklearn.metrics import mean_squared_error\n",
        "from sklearn.svm import SVR\n",
        "from sklearn.ensemble import AdaBoostRegressor\n",
        "import numpy as np\n",
        "\n",
        "df = pd.DataFrame(\n",
        "    {\n",
        "        \"Temperature\": [25,23,35,36,38,41,45,33,37,40],\n",
        "        \"Time of Day\": [4,5,8,11,18,10,13,20,17,16],\n",
        "        \"Light Intensity\": [13,16,67,83,35,80,93,15,43,51],\n",
        "        \"Power Consumption\": [100,89,123,134,188,173,217,197,200,189]\n",
        "    })\n",
        "\n",
        "# Features\n",
        "X = df[[\"Temperature\", \"Time of Day\",\"Light Intensity\"]]\n",
        "y = df['Power Consumption']\n",
        "\n",
        "# Data Split\n",
        "X_train, X_test, y_train, y_test = train_test_split(X, y, test_size=0.2, random_state=42)\n",
        "\n",
        "# Multiple Linear Regression\n",
        "regr = linear_model.LinearRegression()\n",
        "regr.fit(X_train, y_train)\n",
        "y_pred_lr = regr.predict(X_test)\n",
        "rmse_lr = np.sqrt(mean_squared_error(y_test, y_pred_lr))\n",
        "print(f\"RMSE for Linear Regression: {rmse_lr:.2f}\")\n",
        "\n",
        "# SVM Regression (linear kernel)\n",
        "svm_regr_linear = SVR(kernel='linear')\n",
        "svm_regr_linear.fit(X_train, y_train)\n",
        "y_pred_svm_linear = svm_regr_linear.predict(X_test)\n",
        "rmse_svm_linear = np.sqrt(mean_squared_error(y_test, y_pred_svm_linear))\n",
        "print(f\"RMSE for SVM Regression (linear kernel): {rmse_svm_linear:.2f}\")\n",
        "\n",
        "# SVM Regression (rbf kernel)\n",
        "svm_regr_rbf = SVR(kernel='rbf')\n",
        "svm_regr_rbf.fit(X_train, y_train)\n",
        "y_pred_svm_rbf = svm_regr_rbf.predict(X_test)\n",
        "rmse_svm_rbf = np.sqrt(mean_squared_error(y_test, y_pred_svm_rbf))\n",
        "print(f\"RMSE for SVM Regression (non-linear rbf kernel): {rmse_svm_rbf:.2f}\")\n",
        "\n",
        "# AdaBoost Regression\n",
        "adaboost_regr = AdaBoostRegressor(random_state=42, n_estimators=100)\n",
        "adaboost_regr.fit(X_train, y_train)\n",
        "y_pred_adaboost = adaboost_regr.predict(X_test)\n",
        "rmse_adaboost = np.sqrt(mean_squared_error(y_test, y_pred_adaboost))\n",
        "print(f\"RMSE for AdaBoost Regression: {rmse_adaboost:.2f}\")"
      ],
      "metadata": {
        "colab": {
          "base_uri": "https://localhost:8080/"
        },
        "id": "tU0TfxilDi4T",
        "outputId": "687b5ee2-1321-4a50-b529-8ded8ce44461"
      },
      "execution_count": 18,
      "outputs": [
        {
          "output_type": "stream",
          "name": "stdout",
          "text": [
            "RMSE for Linear Regression: 12.18\n",
            "RMSE for SVM Regression (linear kernel): 14.64\n",
            "RMSE for SVM Regression (non-linear rbf kernel): 66.42\n",
            "RMSE for AdaBoost Regression: 11.00\n"
          ]
        }
      ]
    }
  ]
}